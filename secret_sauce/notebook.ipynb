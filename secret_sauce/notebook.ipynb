{
 "metadata": {
  "language_info": {
   "codemirror_mode": {
    "name": "ipython",
    "version": 3
   },
   "file_extension": ".py",
   "mimetype": "text/x-python",
   "name": "python",
   "nbconvert_exporter": "python",
   "pygments_lexer": "ipython3",
   "version": "3.9.2-final"
  },
  "orig_nbformat": 2,
  "kernelspec": {
   "name": "python3",
   "display_name": "Python 3.9.2 64-bit ('.venv')",
   "metadata": {
    "interpreter": {
     "hash": "5b60a8038df0911bf99908e2e6fef2f2f121e1845060ab571990b947d10b8f5d"
    }
   }
  }
 },
 "nbformat": 4,
 "nbformat_minor": 2,
 "cells": [
  {
   "cell_type": "code",
   "execution_count": 1,
   "metadata": {},
   "outputs": [],
   "source": [
    "import torch"
   ]
  },
  {
   "cell_type": "code",
   "execution_count": 2,
   "metadata": {},
   "outputs": [
    {
     "output_type": "stream",
     "name": "stdout",
     "text": [
      "tensor([[0.4162, 0.4802, 0.4890, 0.7483, 0.3273, 0.6707, 0.8435, 0.0545, 0.3783,\n         0.8271],\n        [0.0770, 0.7384, 0.1067, 0.8836, 0.0694, 0.4936, 0.3413, 0.2577, 0.5320,\n         0.6702]], device='cuda:0')\n"
     ]
    }
   ],
   "source": [
    "t = torch.rand((2, 10)).cuda()\n",
    "print(t)"
   ]
  },
  {
   "cell_type": "code",
   "execution_count": null,
   "metadata": {},
   "outputs": [],
   "source": []
  }
 ]
}