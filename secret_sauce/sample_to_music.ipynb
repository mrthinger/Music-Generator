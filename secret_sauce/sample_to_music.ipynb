{
 "metadata": {
  "language_info": {
   "codemirror_mode": {
    "name": "ipython",
    "version": 3
   },
   "file_extension": ".py",
   "mimetype": "text/x-python",
   "name": "python",
   "nbconvert_exporter": "python",
   "pygments_lexer": "ipython3",
   "version": "3.9.4"
  },
  "orig_nbformat": 2,
  "kernelspec": {
   "name": "python394jvsc74a57bd0e1f777b23f3a9c573e75737917389a61b6710fd46a0df2bce124f31bae470e04",
   "display_name": "Python 3.9.4 64-bit ('.venv')"
  }
 },
 "nbformat": 4,
 "nbformat_minor": 2,
 "cells": [
  {
   "cell_type": "code",
   "execution_count": null,
   "metadata": {},
   "outputs": [],
   "source": [
    "import torch\n",
    "\n",
    "torch.manual_seed(0)\n",
    "import random\n",
    "\n",
    "random.seed(0)\n",
    "import numpy as np\n",
    "\n",
    "np.random.seed(0)\n",
    "\n",
    "from omegaconf import OmegaConf\n",
    "from secret_sauce.config.config import Config\n",
    "from secret_sauce.dataset.datasources import DiskDataSource\n",
    "from secret_sauce.dataset.songs_dataset import SongDataset\n",
    "from secret_sauce.network.vqvae.vqvae import VQVAE\n",
    "from secret_sauce.util.util import is_master, wait_for_debugger\n",
    "import itertools\n",
    "\n",
    "from performer_pytorch import PerformerLM\n",
    "from performer_pytorch.autoregressive_wrapper import AutoregressiveWrapper\n",
    "import torchaudio     \n",
    "from torch.utils.data import DataLoader\n",
    "from tqdm import tqdm"
   ]
  },
  {
   "cell_type": "code",
   "execution_count": null,
   "metadata": {},
   "outputs": [],
   "source": [
    "    cfg = Config()\n",
    "    torch.set_autocast_enabled(True)\n",
    "\n",
    "    vqvae = VQVAE(cfg)\n",
    "    vq_save = torch.load('/root/secret_sauce/weights/04/epoch-29/mp_rank_00_model_states.pt')['module']\n",
    "    vqvae.load_state_dict(vq_save)\n",
    "    vqvae.to(device=0, dtype=torch.float16)\n",
    "    vqvae.eval()\n"
   ]
  },
  {
   "cell_type": "code",
   "execution_count": null,
   "metadata": {},
   "outputs": [],
   "source": [
    "s = torch.load('/root/secret_sauce/sample.pt')\n"
   ]
  },
  {
   "cell_type": "code",
   "execution_count": null,
   "metadata": {},
   "outputs": [],
   "source": [
    "t = s.unsqueeze(0).to(device=0, dtype=torch.long)"
   ]
  },
  {
   "cell_type": "code",
   "execution_count": null,
   "metadata": {},
   "outputs": [],
   "source": [
    "audio = vqvae.decode(t)[0]"
   ]
  },
  {
   "cell_type": "code",
   "execution_count": null,
   "metadata": {},
   "outputs": [],
   "source": [
    "save_audio = audio[0].to(device='cpu', dtype=torch.float32)\n"
   ]
  },
  {
   "cell_type": "code",
   "execution_count": null,
   "metadata": {},
   "outputs": [],
   "source": [
    "torchaudio.save('./song.mp3', save_audio, sample_rate=32000)"
   ]
  },
  {
   "cell_type": "code",
   "execution_count": null,
   "metadata": {},
   "outputs": [],
   "source": []
  }
 ]
}